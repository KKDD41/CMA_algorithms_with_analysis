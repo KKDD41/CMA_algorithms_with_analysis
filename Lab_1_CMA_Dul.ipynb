{
 "cells": [
  {
   "cell_type": "code",
   "execution_count": 42,
   "id": "d1c2574a",
   "metadata": {},
   "outputs": [],
   "source": [
    "import numpy as np\n",
    "import copy\n",
    "import matplotlib.pyplot as plt\n",
    "from random import randint\n",
    "import timeit\n",
    "%matplotlib inline"
   ]
  },
  {
   "cell_type": "markdown",
   "id": "5166d97c",
   "metadata": {},
   "source": [
    "Решение системы вида $Ax = b$ обратным ходом метода Гауса. "
   ]
  },
  {
   "cell_type": "code",
   "execution_count": 43,
   "id": "38743fb9",
   "metadata": {},
   "outputs": [],
   "source": [
    "def solve_Ax_b(A, b, left_triangle_A=False):\n",
    "    assert(A.shape[0] == A.shape[1] == b.shape[0])\n",
    "    order = A.shape[0]\n",
    "    solution = np.zeros(shape=(order, 1), dtype=np.double)\n",
    "    for i in range(order) if left_triangle_A else reversed(range(order)):\n",
    "        current_sol = b[i] / A[i,i]\n",
    "        for j in range(i + 1, order) if left_triangle_A else range(i):\n",
    "            b[j] -= b[i] * A[j, i] / A[i, i]\n",
    "        solution[i] = current_sol\n",
    "    return solution"
   ]
  },
  {
   "cell_type": "markdown",
   "id": "0bb9ac62",
   "metadata": {},
   "source": [
    "Функция, случайным образом генерирующая квадратную матрицу с ненулевым определителем необходимого размера $order$."
   ]
  },
  {
   "cell_type": "code",
   "execution_count": 44,
   "id": "29147552",
   "metadata": {},
   "outputs": [],
   "source": [
    "def generate_quadratic_matrix(order):\n",
    "    assert(order >= 1)\n",
    "    matrix = np.matrix([[0] * (order + 1)] * order, dtype=float)\n",
    "    for i in range(order):\n",
    "        for j in range(order + 1):\n",
    "            matrix[i, j] = randint(1, 50)\n",
    "    return matrix"
   ]
  },
  {
   "cell_type": "markdown",
   "id": "02e78427",
   "metadata": {},
   "source": [
    "Функция, генерирующая симметричную квадратную матрицу с ненулевым определителем порядка $order.$"
   ]
  },
  {
   "cell_type": "code",
   "execution_count": 45,
   "id": "e865ec54",
   "metadata": {},
   "outputs": [],
   "source": [
    "def generate_symmetric_matrix(order):\n",
    "    assert(order >= 1)\n",
    "    matrix = np.matrix([[0] * (order + 1)] * order, dtype=float)\n",
    "    for j in range(order):\n",
    "        matrix[j, order] = randint(1, 50)\n",
    "        for i in range(j, order):\n",
    "            matrix[i, j] = matrix[j, i] = randint(1,  50)\n",
    "    return matrix"
   ]
  },
  {
   "cell_type": "markdown",
   "id": "125c7afb",
   "metadata": {},
   "source": [
    "# Задание 1. "
   ]
  },
  {
   "cell_type": "markdown",
   "id": "1605f523",
   "metadata": {},
   "source": [
    "$\\text{Условие:}$ Написать программу, которая строит $𝐿𝑈$- и $𝐿𝐷𝐿^𝑇$-разложения симметричной матрицы $𝐴$ и решает СЛАУ $𝐴𝑥 = 𝑏$ с использованием полученных разложений. Провести эксперимент по сравнению эффективности этих методов: решить тестовые системы (со \n",
    "случайными симметричными матрицами) размерности 400, 800, 1200, 1600, 2000 и изобразить совмещенные графики зависимости времени работы каждого метода от размерности системы."
   ]
  },
  {
   "cell_type": "markdown",
   "id": "604049d6",
   "metadata": {},
   "source": [
    "Функция, строящая $LU$-разложение для матрицы."
   ]
  },
  {
   "cell_type": "code",
   "execution_count": 47,
   "id": "689c12ab",
   "metadata": {},
   "outputs": [],
   "source": [
    "def LU(matrix):\n",
    "    '''\n",
    "    After executing the function, the upper right triangle of the original \n",
    "    matrix contains U, and the lower left triangle contains the elements of L.\n",
    "    '''\n",
    "    assert(matrix.shape[0] == matrix.shape[1] - 1)\n",
    "    order = matrix.shape[0]\n",
    "    for j in range(order):\n",
    "        for i in range(order):\n",
    "            matrix[i, j] -= sum(matrix[i, k] * matrix[k, j] for k in range(min(i, j)))\n",
    "            if i > j:\n",
    "                matrix[i, j] = matrix[i, j] / matrix[j, j]\n",
    "                \n",
    "\n",
    "def create_L(matrix):\n",
    "    for i in range(matrix.shape[0]):\n",
    "        matrix[i, i] = 1\n",
    "    return matrix[:, :matrix.shape[1] - 1]"
   ]
  },
  {
   "cell_type": "markdown",
   "id": "a5a865c2",
   "metadata": {},
   "source": [
    "Функция, строящая $LDL^T$-разложение для матрицы."
   ]
  },
  {
   "cell_type": "code",
   "execution_count": 48,
   "id": "e1f36e23",
   "metadata": {},
   "outputs": [],
   "source": [
    "def LDLT(matrix):\n",
    "    '''\n",
    "    Returns an array with diagonal elements of matrix D. \n",
    "    The original matrix in the upper triangle contains the matrix L^T.\n",
    "    '''\n",
    "    order = matrix.shape[0]\n",
    "    D = [0] * order\n",
    "    for k in range(order):\n",
    "        for i in range(k + 1, order):\n",
    "            matrix[i, i : order] -= round((matrix[k, i] / matrix[k, k]), 9) * matrix[k, i : order]\n",
    "        matrix[k, k + 1 : order] = matrix[k, k + 1 : order] / matrix[k, k]\n",
    "        D[k] = matrix[k, k]\n",
    "        matrix[k, k] = 1\n",
    "    return D"
   ]
  },
  {
   "cell_type": "markdown",
   "id": "9d1734bb",
   "metadata": {},
   "source": [
    "Функции, решающие системы уравнений для $LU$- и $LDL^T$-разложений соответственно обратным методом Гаусса."
   ]
  },
  {
   "cell_type": "code",
   "execution_count": 49,
   "id": "72071670",
   "metadata": {
    "scrolled": true
   },
   "outputs": [],
   "source": [
    "def LU_solve_whole_system(matrix):\n",
    "    LU(matrix)\n",
    "    return solve_Ax_b(matrix[:, :matrix.shape[1] - 1], solve_Ax_b(create_L(matrix.copy()), matrix[:, matrix.shape[1] - 1].copy(), True))\n",
    "\n",
    "\n",
    "def LDLT_solve_whole_system(matrix):\n",
    "    D = LDLT(matrix)\n",
    "    x_1 = solve_Ax_b(matrix[:, :matrix.shape[1] - 1], matrix[:, matrix.shape[1] - 1].copy())\n",
    "    for i in range(matrix.shape[0]):\n",
    "        x_1[i] *= D[i]\n",
    "    return solve_Ax_b(matrix[:, :matrix.shape[1] - 1].transpose(), x_1, True)"
   ]
  },
  {
   "cell_type": "markdown",
   "id": "3e1410e8",
   "metadata": {},
   "source": [
    "Функция, принимающая на вход размерность симметричной матрицы и возвращающая время решения системы линейных уравнений через $LU$, $LDL^T$ разложения. "
   ]
  },
  {
   "cell_type": "code",
   "execution_count": 106,
   "id": "41f08903",
   "metadata": {},
   "outputs": [
    {
     "name": "stdout",
     "output_type": "stream",
     "text": [
      "LU no. 150 -- 0.14029999147169292\n",
      "LDLT no. 150 -- 0.03670000296551734\n",
      "LU no. 300 -- 0.03809999907389283\n",
      "LDLT no. 300 -- 0.03710000601131469\n",
      "LU no. 450 -- 0.03949999518226832\n",
      "LDLT no. 450 -- 0.03920000744983554\n",
      "LU no. 600 -- 0.0408000050811097\n",
      "LDLT no. 600 -- 0.03919999289792031\n",
      "LU no. 750 -- 0.042100000428035855\n",
      "LDLT no. 750 -- 0.057900004321709275\n",
      "LU no. 900 -- 0.05149999924469739\n",
      "LDLT no. 900 -- 0.04350001108832657\n",
      "LU no. 1050 -- 0.043199994252063334\n",
      "LDLT no. 1050 -- 0.0475000124424696\n",
      "LU no. 1200 -- 0.04499999340623617\n",
      "LDLT no. 1200 -- 0.054100004490464926\n",
      "LU no. 1350 -- 0.04539999645203352\n",
      "LDLT no. 1350 -- 0.05219999002292752\n",
      "LU no. 1500 -- 0.04639998951461166\n",
      "LDLT no. 1500 -- 0.04060000355821103\n",
      "LU no. 1650 -- 0.03989999822806567\n",
      "LDLT no. 1650 -- 0.038700003642588854\n",
      "LU no. 1800 -- 0.04060000355821103\n",
      "LDLT no. 1800 -- 0.038700003642588854\n",
      "LU no. 1950 -- 0.041100007365457714\n",
      "LDLT no. 1950 -- 0.039000005926936865\n",
      "LU no. 2100 -- 0.04130000888835639\n",
      "LDLT no. 2100 -- 0.05040000542066991\n"
     ]
    }
   ],
   "source": [
    "list_of_orders = [150 * i for i in range(1, 15)]\n",
    "list_of_time_for_LU = []\n",
    "list_of_time_for_LDLT = []\n",
    "\n",
    "\n",
    "def solving_time_LU_LDLT(order):\n",
    "    matrix = generate_symmetric_matrix(order)\n",
    "    result = %timeit -n1 -r1 -o -q -p0 LU_solve_whole_system(matrix.copy())\n",
    "    list_of_time_for_LU.append(result.compile_time)\n",
    "    print('LU no.', order, '--', list_of_time_for_LU[-1] * (10 ** 3))\n",
    "    result = %timeit -n1 -r1 -o -q -p0 LDLT_solve_whole_system(matrix)\n",
    "    list_of_time_for_LDLT.append(result.compile_time)\n",
    "    print('LDLT no.', order, '--', list_of_time_for_LDLT[-1] * (10 ** 3))\n",
    "    \n",
    "    \n",
    "for order in list_of_orders:\n",
    "    solving_time_LU_LDLT(order)"
   ]
  },
  {
   "cell_type": "code",
   "execution_count": 109,
   "id": "f5f351f5",
   "metadata": {},
   "outputs": [
    {
     "data": {
      "image/png": "[encoded data removed]",
      "text/plain": [
       "<Figure size 1080x720 with 1 Axes>"
      ]
     },
     "metadata": {
      "needs_background": "light"
     },
     "output_type": "display_data"
    }
   ],
   "source": [
    "plt.figure(figsize=[15, 10])\n",
    "plt.plot(list_of_orders, [t * (10 ** 6) for t in list_of_time_for_LU], color='red', linewidth=3, label='$LU$-decomposition')\n",
    "plt.plot(list_of_orders, [t * (10 ** 6) for t in list_of_time_for_LDLT], color='blue', linewidth=3, label='$LDL^T$-decomposition')\n",
    "plt.ylabel('Seconds')\n",
    "plt.xlabel('Shape of matrix')\n",
    "plt.title('Dependence of the operating time on the size of the matrix')\n",
    "plt.legend()\n",
    "plt.show()"
   ]
  },
  {
   "cell_type": "code",
   "execution_count": 118,
   "id": "29ec7e18",
   "metadata": {},
   "outputs": [
    {
     "data": {
      "text/plain": [
       "1.14"
      ]
     },
     "execution_count": 118,
     "metadata": {},
     "output_type": "execute_result"
    }
   ],
   "source": [
    "average_value = sum(list_of_time_for_LU[i] / list_of_time_for_LDLT[i] for i in range(10)) / 10\n",
    "\n",
    "round(average_value, 2)"
   ]
  },
  {
   "cell_type": "markdown",
   "id": "53ae0c77",
   "metadata": {},
   "source": [
    "# Задание 2"
   ]
  },
  {
   "cell_type": "markdown",
   "id": "832ac153",
   "metadata": {},
   "source": [
    "Условие: Написать программу, которая решает СЛАУ $Ax = b$ типа\n",
    "$$\n",
    "    A = \\begin{pmatrix}\n",
    "            n & 1 & 1 & \\dots & 1 & 1 \\\\\n",
    "            1 & n & 0 & \\dots & 0 & 1 \\\\\n",
    "            1 & 0 & n & \\dots & 0 & 1 \\\\\n",
    "            \\; & \\dots & \\; & \\dots & \\; & \\dots \\\\\n",
    "            1 & 1 & 1 & \\dots & 1 & n\n",
    "        \\end{pmatrix}, \\;\\;\\; \n",
    "    b = \\begin{pmatrix}\n",
    "            1 \\\\\n",
    "            1 \\\\\n",
    "            1 \\\\\n",
    "            \\dots \\\\\n",
    "            1\n",
    "        \\end{pmatrix}\n",
    "$$\n",
    "методом Гаусса-Зейделя и обобщенным методом минимальных невязок (GMRES). При \n",
    "реализации следует учитывать структуру матрицы, то есть запрещается хранить в \n",
    "памяти ее избыточные нулевые элементы. В отчет включить обоснование сходимости \n",
    "метода Гаусса-Зейделя для данных матриц. Получить решения системы размерности \n",
    "500, 1000, 2000, 4000 и изобразить совмещенные графики зависимости времени \n",
    "работы каждого метода от размерности системы. Указать количество сделанных \n",
    "итераций обоих методов. Критерий остановки итераций: $||Ax^{(k)} - b|| < 10^{-10}.$"
   ]
  },
  {
   "cell_type": "markdown",
   "id": "b628087c",
   "metadata": {},
   "source": [
    "Класс, хранящий матрицу вышеуказанного вида как размерность матрицы и значение ее диагонального элемента."
   ]
  },
  {
   "cell_type": "code",
   "execution_count": 50,
   "id": "e3103ef3",
   "metadata": {},
   "outputs": [],
   "source": [
    "class MagicMatrix:\n",
    "    def __init__(self, shape, n):\n",
    "        self.shape = shape\n",
    "        self.diagonal_element = n\n",
    "        \n",
    "    def get(self, x, y):\n",
    "        assert(0 <= x <= self.shape and 0 <= y <= self.shape)\n",
    "        if x == y:\n",
    "            return self.diagonal_element\n",
    "        elif x == 0 or y == 0 or x == self.shape - 1 or y == self.shape - 1:\n",
    "            return 1\n",
    "        else:\n",
    "            return 0\n",
    "        \n",
    "    def dot(self, vector):\n",
    "        assert(self.shape == vector.shape[0])\n",
    "        result = np.zeros(shape=(self.shape, 1), dtype=np.double)\n",
    "        result[0] = self.diagonal_element * vector[0] + sum(vector[i] for i in range(1, self.shape))\n",
    "        result[self.shape - 1] = self.diagonal_element * vector[self.shape - 1] + sum(vector[i] for i in range(self.shape - 1))\n",
    "        for i in range(1, self.shape - 1):\n",
    "            result[i] = vector[0] + vector[self.shape - 1] + self.diagonal_element * vector[i]\n",
    "        return result        "
   ]
  },
  {
   "cell_type": "markdown",
   "id": "d5b49fe3",
   "metadata": {},
   "source": [
    "Функция, проводящая одну итерацию алгоритма Арнольди."
   ]
  },
  {
   "cell_type": "code",
   "execution_count": 55,
   "id": "f1fb5ed5",
   "metadata": {},
   "outputs": [],
   "source": [
    "def Arnoldi_step(M, k):\n",
    "    j = k\n",
    "    z = M.dot(Q[:, [j]])\n",
    "    for i in range(j + 1):\n",
    "        H[i, j] = np.dot(z.transpose(), Q[:, [i]])\n",
    "        z -= H[i, j] * Q[:, [i]]\n",
    "    H[j + 1, j] = np.linalg.norm(z)\n",
    "    if abs(H[j + 1, j]) <= 10 ** (-10):\n",
    "        return Q[:, :j], H[:j, :]\n",
    "    Q[:, [j + 1]] = z / H[j + 1, j]\n",
    "    return Q[:, :j + 1], H[:, :j + 1]"
   ]
  },
  {
   "cell_type": "markdown",
   "id": "688062b5",
   "metadata": {},
   "source": [
    "Функция для решения задачи наименьших квадратов."
   ]
  },
  {
   "cell_type": "code",
   "execution_count": 177,
   "id": "ba3ee3c8",
   "metadata": {},
   "outputs": [],
   "source": [
    "def Least_squares_solve(A, b):\n",
    "    LHS = np.dot(A.transpose(), A)\n",
    "    if A.shape == (1, 1) or (1, 0):\n",
    "        RHS = A[0] * b\n",
    "    else:\n",
    "        RHS = np.dot(A.transpose(), b)\n",
    "    LHS = np.append(LHS, RHS, axis=1)\n",
    "    return LU_solve_whole_system(LHS)"
   ]
  },
  {
   "cell_type": "markdown",
   "id": "c109e7ff",
   "metadata": {},
   "source": [
    "Функции, реализующая алгоритм GMRES с точностью $||Ax^{(k)} - b|| < 10^{-10}.$"
   ]
  },
  {
   "cell_type": "code",
   "execution_count": 69,
   "id": "dc6fedce",
   "metadata": {},
   "outputs": [],
   "source": [
    "def GMRES_solver(M):\n",
    "    order = M.shape\n",
    "    k = 0\n",
    "    x = np.zeros(order, dtype=np.double).reshape((order, 1))\n",
    "    while abs(np.linalg.norm(M.dot(x) - b)) >= 10 ** (-9):\n",
    "        Q, H = Arnoldi_step(M, k)\n",
    "        d_k = np.zeros(order).reshape((order, 1))\n",
    "        d_k[0, 0] = np.sqrt(order)\n",
    "        y = Least_squares_solve(H, d_k)\n",
    "        if y.shape == (1, 1):\n",
    "            x = y * Q\n",
    "        else:\n",
    "            x = np.dot(Q, y)\n",
    "        if np.linalg.norm(M.dot(x) - b) <= 10 ** (-9):\n",
    "            return x\n",
    "        else:\n",
    "            k += 1"
   ]
  },
  {
   "cell_type": "markdown",
   "id": "f5ec9637",
   "metadata": {},
   "source": [
    "Реализация алгоритма Гаусса-Зейделя:"
   ]
  },
  {
   "cell_type": "code",
   "execution_count": 88,
   "id": "83c22826",
   "metadata": {},
   "outputs": [],
   "source": [
    "def GS_step(M, x):\n",
    "    order = M.shape\n",
    "    new_x = np.zeros(shape=(order, 1), dtype=np.double)\n",
    "    for i in range(order):\n",
    "        new_x[i] = (b[i] - sum(M.get(i, j) * new_x[j] for j in range(i)) - sum(M.get(i, j) * x[j] for j in range(i + 1, order))) / M.get(i, i)\n",
    "    return new_x\n",
    "\n",
    "\n",
    "def GS_solver(M):\n",
    "    order = M.shape\n",
    "    k = 0\n",
    "    x = np.zeros(shape=(order, 1), dtype=np.double)\n",
    "    while np.sqrt(sum((M.dot(x) - b)[i] ** 2 for i in range(order))) >= 10 ** (-9):\n",
    "        x = GS_step(M, x)\n",
    "        k += 1\n",
    "    return x"
   ]
  },
  {
   "cell_type": "markdown",
   "id": "e06a3acb",
   "metadata": {},
   "source": [
    "Вычисление времени работы метода GMRES и Гаусса-Зейделя соответственно:"
   ]
  },
  {
   "cell_type": "code",
   "execution_count": 99,
   "id": "62af26bc",
   "metadata": {},
   "outputs": [
    {
     "name": "stdout",
     "output_type": "stream",
     "text": [
      "GMRES no. 150  --  0.047900000936351717\n",
      "GS no. 150  --  0.041099992813542485\n",
      "GMRES no. 300  --  0.03779999678954482\n",
      "GS no. 300  --  0.03670000296551734\n",
      "GMRES no. 450  --  0.037300007534213364\n",
      "GS no. 450  --  0.03680000372696668\n",
      "GMRES no. 600  --  0.038700003642588854\n",
      "GS no. 600  --  0.03809999907389283\n",
      "GMRES no. 750  --  0.039699996705166996\n",
      "GS no. 750  --  0.038300000596791506\n",
      "GMRES no. 900  --  0.03710000601131469\n",
      "GS no. 900  --  0.03599999763537198\n",
      "GMRES no. 1050  --  0.04430000262800604\n",
      "GS no. 1050  --  0.04060000355821103\n",
      "GMRES no. 1200  --  0.03989999822806567\n",
      "GS no. 1200  --  0.03739999374374747\n",
      "GMRES no. 1350  --  0.039300008211284876\n",
      "GS no. 1350  --  0.03850000211969018\n",
      "GMRES no. 1500  --  0.04020000051241368\n",
      "GS no. 1500  --  0.03850000211969018\n",
      "GMRES no. 1650  --  0.039699996705166996\n",
      "GS no. 1650  --  0.037300007534213364\n",
      "GMRES no. 1800  --  0.03860000288113952\n",
      "GS no. 1800  --  0.036600002204068005\n",
      "GMRES no. 1950  --  0.04189999890513718\n",
      "GS no. 1950  --  0.039399994420818985\n",
      "GMRES no. 2100  --  0.04020000051241368\n",
      "GS no. 2100  --  0.03759999526664615\n"
     ]
    }
   ],
   "source": [
    "list_of_orders = [150 * i for i in range(1, 15)]\n",
    "list_of_time_for_GS = []\n",
    "list_of_time_for_GMRES = []\n",
    "\n",
    "\n",
    "def solving_time_GMRES_GS(order):\n",
    "    matrix = MagicMatrix(order, order)\n",
    "    b = np.ones(order).reshape((order, 1))\n",
    "    Q = np.zeros(order * order, dtype=np.double).reshape((order, order))\n",
    "    H = np.zeros(order * order, dtype=np.double).reshape((order, order))\n",
    "    Q[:, [0]] = b / np.sqrt(order)\n",
    "    result = %timeit -n1 -r1 -o -q -p0 GMRES_solver(matrix)\n",
    "    list_of_time_for_GMRES.append(result.compile_time)\n",
    "    print('GMRES no.', order, ' -- ', list_of_time_for_GMRES[-1] * (10 ** 3))\n",
    "    result = %timeit -n1 -r1 -o -q -p0 GS_solver(matrix)\n",
    "    list_of_time_for_GS.append(result.compile_time)\n",
    "    print('GS no.', order, ' -- ', list_of_time_for_GS[-1] * (10 ** 3))\n",
    "\n",
    "\n",
    "for order in list_of_orders:\n",
    "    solving_time_GMRES_GS(order)"
   ]
  },
  {
   "cell_type": "code",
   "execution_count": 116,
   "id": "c7f02848",
   "metadata": {},
   "outputs": [
    {
     "data": {
      "image/png": "[encoded data removed]",
      "text/plain": [
       "<Figure size 1080x720 with 1 Axes>"
      ]
     },
     "metadata": {
      "needs_background": "light"
     },
     "output_type": "display_data"
    }
   ],
   "source": [
    "plt.figure(figsize=[15, 10])\n",
    "plt.plot(list_of_orders, [t * (10 ** 6) for t in list_of_time_for_GMRES], color='red', linewidth=3, label='$GMRES$-method')\n",
    "plt.plot(list_of_orders, [t * (10 ** 6) for t in list_of_time_for_GS], color='blue', linewidth=3, label='$GS$-decomposition')\n",
    "plt.ylabel('Seconds')\n",
    "plt.xlabel('Shape of matrix')\n",
    "plt.title('Dependence of the operating time on the size of the matrix')\n",
    "plt.legend()\n",
    "plt.show()"
   ]
  },
  {
   "cell_type": "markdown",
   "id": "6d66b0ad",
   "metadata": {},
   "source": [
    "# Задание 3."
   ]
  },
  {
   "cell_type": "markdown",
   "id": "9895fb5f",
   "metadata": {},
   "source": [
    "Условие: Написать программу, которая решает СЛАУ $Ax = b$ с разреженной матрицей $A$\n",
    "методом Гаусса с выбором главного элемента по столбцу и обобщенным методом \n",
    "минимальных невязок (GMRES). Попытаться использовать факт разреженности для \n",
    "оптимизации алгоритмов. Подробно изложить в отчете все мысли по этому поводу. \n",
    "Получить решения систем с невырожденной матрицей размерности 1000 с различной \n",
    "степенью разреженности $(0\\%, 50\\%, 90\\%, 95\\%, 99\\%)$. Изобразить совмещенные \n",
    "графики зависимости времени работы каждого метода от разреженности системы. \n",
    "Критерий остановки итераций обобщенного метода минимальных невязок: $||Ax - b|| < 10^{-10}.$"
   ]
  },
  {
   "cell_type": "markdown",
   "id": "0ad147f0",
   "metadata": {},
   "source": [
    "Функция для генерации матрицы с требуемой степенью разреженности."
   ]
  },
  {
   "cell_type": "code",
   "execution_count": 111,
   "id": "d4a1e4a2",
   "metadata": {},
   "outputs": [],
   "source": [
    "def generate_sparse_matrix(order, sparseness):\n",
    "    \"\"\"\n",
    "    Generate sparse matrix in DOK format.\n",
    "    \"\"\"\n",
    "    value_dict = dict()\n",
    "    if sparseness == 0:\n",
    "        for i in range(order):\n",
    "            for j in range(order + 1):\n",
    "                value_dict[(i, j)] = randint(1, 50)\n",
    "        return DOCMatrix(order, value_dict)\n",
    "\n",
    "    num_of_nonzero_elements = int(order * order * (100 - sparseness))\n",
    "    for i in range(num_of_nonzero_elements):\n",
    "        x, y = randint(0, order + 1), randint(0, order)\n",
    "        if (x, y) not in value_dict.keys():\n",
    "            value_dict[(x, y)] = randint(1, 50)\n",
    "        else:\n",
    "            while y <= order or (x, y) in value_dict.keys():\n",
    "                y += 1\n",
    "            value_dict[(x, y)] = randint(1, 50)\n",
    "    return DOCMatrix(order, value_dict)"
   ]
  },
  {
   "cell_type": "markdown",
   "id": "97aab14f",
   "metadata": {},
   "source": [
    "Класс, хранящий разреженную матрицу."
   ]
  },
  {
   "cell_type": "code",
   "execution_count": 165,
   "id": "69fd2d53",
   "metadata": {},
   "outputs": [],
   "source": [
    "class DOCMatrix:\n",
    "    def __init__(self, order, value_dict):\n",
    "        self.order = order\n",
    "        self.value_dict = value_dict\n",
    "        self.swap_order = list(range(order))\n",
    "\n",
    "    def get(self, x, y):\n",
    "        if (x, y) in self.value_dict.keys():\n",
    "            return self.value_dict[(x, y)]\n",
    "        else:\n",
    "            return 0\n",
    "\n",
    "    def dot(self, vector):\n",
    "        assert (self.order == vector.shape[0])\n",
    "        result = np.zeros(shape=(self.order, 1), dtype=np.double)\n",
    "        for i in range(order):\n",
    "            result[i] = sum(self.get(i, j) * vector[j] for j in range(self.order))\n",
    "        return result\n",
    "\n",
    "    def swap_rows(self, i, k): \n",
    "        for j in range(self.order + 1):\n",
    "            if (i, j) in self.value_dict.keys() and (k, j) in self.value_dict.keys():\n",
    "                self.value_dict[(i, j)], self.value_dict[(k, j)] = self.value_dict[(k, j)], self.value_dict[(i, j)]\n",
    "            elif self.get(i, j) == 0 and (k, j) in self.value_dict.keys():\n",
    "                self.value_dict[(i, j)] = self.get(k, j)\n",
    "                self.value_dict.pop((k, j))\n",
    "            elif (i, j) in self.value_dict.keys():\n",
    "                self.value_dict[(k, j)] = self.get(i, j)\n",
    "                self.value_dict.pop((i, j))\n",
    "\n",
    "    def choose_max_in_column(self, num_of_iteration): \n",
    "        sub_column = [item for item in self.value_dict.items() if (item[0][1] == num_of_iteration and\n",
    "                                                                   item[0][0] >= num_of_iteration)]\n",
    "        sub_column.sort(key=lambda x: x[1], reverse=True)\n",
    "        max_elem_key = sub_column[0][0]\n",
    "        self.swap_rows(max_elem_key[0], num_of_iteration)\n",
    "\n",
    "    def subtract_rows(self, i, j, coeff):\n",
    "        for k in range(0, self.order + 1):\n",
    "            if self.get(j, k) == 0:\n",
    "                pass\n",
    "            elif (i, k) in self.value_dict.keys() and (j, k) in self.value_dict.keys():\n",
    "                self.value_dict[(i, k)] = round(self.value_dict[(i, k)] - self.get(j, k) * coeff, 2) ##############\n",
    "            else:\n",
    "                self.value_dict[(i, k)] = -self.get(j, k) * coeff\n",
    "            if (i, k) in self.value_dict.keys() and abs(self.value_dict[(i, k)]) < (10 ** (-1)): ######################3\n",
    "                self.value_dict.pop((i, k))\n",
    "\n",
    "    def print(self):\n",
    "        print('-------')\n",
    "        for i in range(self.order):\n",
    "            for j in range(self.order + 1):\n",
    "                print(self.get(i, j), end=' ')\n",
    "            print('\\n')\n",
    "        print('-------')"
   ]
  },
  {
   "cell_type": "markdown",
   "id": "0716a217",
   "metadata": {},
   "source": [
    "Функция, реализующая алгоритм Гаусса с выбором главного элемента по столбцу. "
   ]
  },
  {
   "cell_type": "code",
   "execution_count": 114,
   "id": "b70d04c3",
   "metadata": {},
   "outputs": [],
   "source": [
    "def Gaussian_solver(M):\n",
    "    order = M.order\n",
    "    for k in range(order):\n",
    "        M.choose_max_in_column(k)\n",
    "        if M.get(k, k) != 0:\n",
    "            for i in range(k + 1, order):\n",
    "                M.subtract_rows(i, k, coeff=M.get(i, k) / M.get(k, k))\n",
    "    solution = np.zeros(shape=(order, 1), dtype=np.double)\n",
    "    for i in reversed(range(order)):\n",
    "        solution[i] = round(M.get(i, order) / M.get(i, i), 2) ######################\n",
    "        for j in range(i):\n",
    "            M.subtract_rows(j, i, M.get(j, i) / M.get(i, i))\n",
    "    return solution"
   ]
  },
  {
   "cell_type": "markdown",
   "id": "1aa6e88c",
   "metadata": {},
   "source": [
    "Функция для реализации метода GMRES."
   ]
  },
  {
   "cell_type": "code",
   "execution_count": 173,
   "id": "eed25d91",
   "metadata": {},
   "outputs": [],
   "source": [
    "def Arnoldi_S_step(M, k):\n",
    "    j = k\n",
    "    z = M.dot(Q[:, [j]])\n",
    "    for i in range(j + 1):\n",
    "        H[i, j] = np.dot(z.transpose(), Q[:, [i]])  # check (z, q_i)\n",
    "        z -= H[i, j] * Q[:, [i]]\n",
    "    H[j + 1, j] = np.linalg.norm(z)\n",
    "    if H[j + 1, j] <= 10 ** (-10)\n",
    "        return Q[:, :j], H[:j, :]\n",
    "    Q[:, [j + 1]] = z / H[j + 1, j]\n",
    "    return Q[:, :j + 1], H[:j, :j + 1]\n",
    "\n",
    "\n",
    "def GMRES_S_solver(M, H, Q):\n",
    "    order = M.order\n",
    "    B = np.zeros(order, dtype=np.double).reshape((order, 1))\n",
    "    for i in range(order):\n",
    "        B[i] = M.get(i, order)\n",
    "        M.value_dict.pop((i, order))\n",
    "    k = 0\n",
    "    Q[0, 0] = np.linalg.norm(B)\n",
    "    x = np.zeros(order, dtype=np.double).reshape((order, 1))\n",
    "    print(M.order, x.shape, B.shape)\n",
    "    while abs(np.linalg.norm(M.dot(x) - B)) > 10 ** (-10):\n",
    "        Q, H = Arnoldi_S_step(M, k)\n",
    "        d_k = np.zeros(order).reshape((order, 1))\n",
    "        d_k[0, 0] = np.linalg.norm(B)\n",
    "        y = Least_squares_solve(H, d_k)\n",
    "        if y.shape == (1, 1):\n",
    "            x = y * Q\n",
    "        else:\n",
    "            x = np.dot(Q, y)\n",
    "        if np.linalg.norm(M.dot(x) - B) <= 10 ** (-10):\n",
    "            return x\n",
    "        else:\n",
    "            k += 1"
   ]
  },
  {
   "cell_type": "markdown",
   "id": "4d5f5975",
   "metadata": {},
   "source": [
    "Выичсление времени компиляции для метода Гаусса с выбором главного элемента."
   ]
  },
  {
   "cell_type": "code",
   "execution_count": 185,
   "id": "7a48b53e",
   "metadata": {},
   "outputs": [
    {
     "name": "stdout",
     "output_type": "stream",
     "text": [
      "0.7435999868903309\n",
      "0.5469999450724572\n",
      "0.6116000149631873\n",
      "0.48149999929592013\n",
      "0.3885000041918829\n",
      "0.4440000047907233\n"
     ]
    }
   ],
   "source": [
    "list_of_sparseness = [0, 20, 50, 90, 95, 99]\n",
    "list_of_time_for_GAUSS = []\n",
    "\n",
    "\n",
    "def solving_time_GAUSS(sparseness):\n",
    "    matrix = generate_sparse_matrix(400, sparseness)\n",
    "    result = %timeit -n1 -r1 -o -q -p0 Gaussian_solver(matrix)\n",
    "    list_of_time_for_GAUSS.append(result.compile_time)\n",
    "    print('GAUSS no.', sparseness, ' -- ', list_of_time_for_GAUSS[-1] * (10 ** 3))\n",
    "\n",
    "    \n",
    "for s in list_of_time_for_GAUSS:\n",
    "    solving_time_GAUSS(s)"
   ]
  },
  {
   "cell_type": "markdown",
   "id": "237d585b",
   "metadata": {},
   "source": [
    "Вычисление времени работы алгоритма GMRES для разреженных матриц."
   ]
  },
  {
   "cell_type": "code",
   "execution_count": null,
   "id": "cc7974f1",
   "metadata": {},
   "outputs": [],
   "source": [
    "list_of_sparseness = [0, 20, 50, 90, 95, 99]\n",
    "list_of_time_for_S_GMRES = []\n",
    "\n",
    "\n",
    "def solving_time_GMRES_S(sparseness):\n",
    "    order = 100\n",
    "    matrix = generate_sparse_matrix(order, sparseness)\n",
    "    Q = np.zeros(order * order, dtype=np.double).reshape((order, order))\n",
    "    H = np.zeros(order * order, dtype=np.double).reshape((order, order))\n",
    "    result = %timeit -n1 -r1 -o -q -p0 GMRES_S_solver(matrix, H, Q)\n",
    "    list_of_time_for_S_GMRES.append(result.compile_time)\n",
    "    print('GMRES no.', sparseness, ' -- ', list_of_time_for_GMRES_S[-1] * (10 ** 3))\n",
    "    \n",
    "\n",
    "for s in list_of_sparseness:\n",
    "    solving_time_GMRES_S(s)"
   ]
  },
  {
   "cell_type": "code",
   "execution_count": 188,
   "id": "671ca9bb",
   "metadata": {},
   "outputs": [
    {
     "data": {
      "image/png": "[encoded data removed]",
      "text/plain": [
       "<Figure size 1080x720 with 1 Axes>"
      ]
     },
     "metadata": {
      "needs_background": "light"
     },
     "output_type": "display_data"
    }
   ],
   "source": [
    "plt.figure(figsize=[15, 10])\n",
    "plt.plot(list_of_sparseness, [t * (10 ** 4) for t in list_of_time_for_GAUSS], color='red', linewidth=3, label='$GAUSS$-method')\n",
    "\n",
    "plt.ylabel('Seconds')\n",
    "plt.xlabel('Shape of matrix')\n",
    "plt.title('Dependence of the operating time on the size of the matrix')\n",
    "plt.legend()\n",
    "plt.show()"
   ]
  }
 ],
 "metadata": {
  "kernelspec": {
   "display_name": "Python 3",
   "language": "python",
   "name": "python3"
  },
  "language_info": {
   "codemirror_mode": {
    "name": "ipython",
    "version": 3
   },
   "file_extension": ".py",
   "mimetype": "text/x-python",
   "name": "python",
   "nbconvert_exporter": "python",
   "pygments_lexer": "ipython3",
   "version": "3.8.8"
  }
 },
 "nbformat": 4,
 "nbformat_minor": 5
}
