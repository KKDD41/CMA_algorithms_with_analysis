{
 "cells": [
  {
   "cell_type": "code",
   "execution_count": 2,
   "id": "2f85d679",
   "metadata": {},
   "outputs": [],
   "source": [
    "import numpy as np\n",
    "import copy\n",
    "import matplotlib.pyplot as plt\n",
    "from random import randint\n",
    "import timeit\n",
    "from sympy import *\n",
    "%matplotlib inline"
   ]
  },
  {
   "cell_type": "markdown",
   "id": "c8ab06b0",
   "metadata": {},
   "source": [
    "Здесь собраны вспомогательные функции, в частности обратный ход метода Гаусса, решение системы линейных уравнений через $LU$-разложение, решение задачи наименьших квадратов через домножение на транспонированную матрицу, а также решение квадратного уравнения."
   ]
  },
  {
   "cell_type": "code",
   "execution_count": 3,
   "id": "37c1cb78",
   "metadata": {},
   "outputs": [],
   "source": [
    "def solve_Ax_b(A, b, left_triangle_A=False):\n",
    "    assert(A.shape[0] == A.shape[1] == b.shape[0])\n",
    "    order = A.shape[0]\n",
    "    solution = np.zeros(shape=(order, 1), dtype=complex)\n",
    "    for i in range(order) if left_triangle_A else reversed(range(order)):\n",
    "        current_sol = b[i] / A[i,i]\n",
    "        for j in range(i + 1, order) if left_triangle_A else range(i):\n",
    "            b[j] = b[j] - b[i] * A[j, i] / A[i, i]\n",
    "        solution[i] = current_sol\n",
    "    return solution\n",
    "\n",
    "\n",
    "def Polynom_solve(c_1, c_0):\n",
    "    return -c_1 / 2 + np.sqrt(abs(float(c_1 * c_1 - 4 * c_0))) / 2 * 1j, -c_1 / 2 - np.sqrt(abs(float(c_1 * c_1 - 4 * c_0))) / 2 * 1j\n",
    "\n",
    "\n",
    "def LU(matrix):\n",
    "    order = matrix.shape[0]\n",
    "    for j in range(order):\n",
    "        for i in range(order):\n",
    "            matrix[i, j] = matrix[i, j] - sum(matrix[i, k] * matrix[k, j] for k in range(min(i, j)))\n",
    "            if i > j:\n",
    "                matrix[i, j] = matrix[i, j] / matrix[j, j]\n",
    "    L = eye(order)\n",
    "    U = zeros(order)\n",
    "    for i in range(order):\n",
    "        for j in range(order):\n",
    "            if i > j:\n",
    "                L[i, j] = matrix[i, j]\n",
    "            else:\n",
    "                U[i, j] = matrix[i, j]\n",
    "    return L, U\n",
    "\n",
    "\n",
    "def LU_solve_whole_system(matrix):\n",
    "    L, U = LU(matrix.copy())\n",
    "    return solve_Ax_b(U, solve_Ax_b(L, matrix[:, matrix.shape[1] - 1].copy(), True))\n",
    "\n",
    "\n",
    "def Least_squares_solve(A, b):\n",
    "    LHS = A.transpose() * A\n",
    "    RHS = A.transpose() * b\n",
    "    LHS = np.insert(LHS, 2, RHS.transpose(), axis=1)\n",
    "    return LU_solve_whole_system(LHS)\n",
    "\n",
    "\n",
    "def generate_quadratic_matrix(order):\n",
    "    assert(order >= 1)\n",
    "    matrix = np.matrix([[0] * (order + 1)] * order, dtype=float)\n",
    "    for i in range(order):\n",
    "        for j in range(order + 1):\n",
    "            matrix[i, j] = randint(1, 50)\n",
    "    return matrix"
   ]
  },
  {
   "cell_type": "markdown",
   "id": "26c8215a",
   "metadata": {},
   "source": [
    "Алгоритмы для нескольких вариантов возможных максимальных по модулю собственных значений отдельно. "
   ]
  },
  {
   "cell_type": "code",
   "execution_count": 346,
   "id": "7b44f389",
   "metadata": {},
   "outputs": [
    {
     "name": "stdout",
     "output_type": "stream",
     "text": [
      "Eigen values:\n",
      " (-0.916367575861046+3.925408635266307j) \n",
      " (-0.916367575861046-3.925408635266307j)\n",
      "Eigen vectors:\n",
      " [[ 0.35965647-0.18110326j]\n",
      " [ 0.1347151 +0.02009192j]\n",
      " [-0.15247476+0.25578657j]\n",
      " [ 0.24192759+0.36018973j]\n",
      " [-0.19568154-0.07867445j]\n",
      " [ 0.00260182+0.49449287j]\n",
      " [-0.21451862-0.17056793j]\n",
      " [ 0.11614702+0.18011606j]\n",
      " [-0.23468133+0.12610043j]\n",
      " [ 0.2080197 -0.13436049j]] \n",
      " [[ 0.35965647+0.18110326j]\n",
      " [ 0.1347151 -0.02009192j]\n",
      " [-0.15247476-0.25578657j]\n",
      " [ 0.24192759-0.36018973j]\n",
      " [-0.19568154+0.07867445j]\n",
      " [ 0.00260182-0.49449287j]\n",
      " [-0.21451862+0.17056793j]\n",
      " [ 0.11614702-0.18011606j]\n",
      " [-0.23468133-0.12610043j]\n",
      " [ 0.2080197 +0.13436049j]]\n"
     ]
    }
   ],
   "source": [
    "def real_case_one(A, u, A_u):\n",
    "    '''\n",
    "    Finds a solution in case, where eigen value l_1 has maximal norm, i.e. |l_1| >= |l_2| ... . \n",
    "    '''\n",
    "    l = np.dot(u.transpose(), A_u)[0, 0]\n",
    "    if np.linalg.norm(A_u - l * u) > 10 ** (-9):\n",
    "        return False\n",
    "    else:\n",
    "        return l, u\n",
    "\n",
    "    \n",
    "def real_case_two(A, u, A_u, AA_u):\n",
    "    '''\n",
    "    Finds a solution in case, where eigen value l_1 has maximal norm, i.e. |l_1| >= |l_2| ..., and l_1 = -l_2.\n",
    "    '''\n",
    "    ip = np.dot(u.transpose(), AA_u)[0, 0]\n",
    "    if ip < 0:\n",
    "        return False\n",
    "    l = np.sqrt(ip)\n",
    "    eigen_1 = A_u * l + AA_u\n",
    "    eigen_1 = eigen_1 / np.linalg.norm(eigen_1)\n",
    "    if np.linalg.norm(np.dot(A, eigen_1) - l * eigen_1) > 10 ** (-9):\n",
    "        return False\n",
    "    else:\n",
    "        eigen_2 = A_u * l - AA_u\n",
    "        eigen_2 = eigen_2 / np.linalg.norm(eigen_2)\n",
    "        if np.linalg.norm(np.dot(A, eigen_2) + l * eigen_2) > 10 ** (-9):\n",
    "            return False\n",
    "        return l, eigen_1, -l, eigen_2\n",
    "\n",
    "    \n",
    "def complex_case(A, u, A_u, AA_u):\n",
    "    '''\n",
    "    Finds a solution in case, where complex eigen value l_1 has maximal norm, i.e. |l_1| = |l_2| > ... . \n",
    "    '''\n",
    "    vec = Least_squares_solve(np.concatenate((u, A_u), axis=1), -AA_u)\n",
    "    a = vec[0, 0]\n",
    "    b = vec[1, 0]\n",
    "    l1, l2 = Polynom_solve(b, a)\n",
    "    eigen_1 = A_u - u * l2\n",
    "    eigen_1 = eigen_1 / np.linalg.norm(eigen_1)\n",
    "    if np.linalg.norm(np.dot(A, eigen_1) - l1 * eigen_1) > 10 ** (-9):\n",
    "        return False\n",
    "    eigen_2 = A_u - u * l1\n",
    "    eigen_2 = eigen_2 / np.linalg.norm(eigen_2)\n",
    "    if np.linalg.norm(np.dot(A, eigen_2) - l2 * eigen_2) > 10 ** (-9):\n",
    "        return False\n",
    "    return l1, eigen_1, l2, eigen_2\n",
    "\n",
    "\n",
    "def Eigen_value_detecter(A, number_of_iterations, init_printing):\n",
    "    size = A.shape[0]\n",
    "    u = np.random.rand(size,1)\n",
    "    u = u / np.linalg.norm(u)\n",
    "    for i in range(number_of_iterations):\n",
    "        u = np.dot(A, u)\n",
    "        u = u / np.linalg.norm(u)\n",
    "        au = np.dot(A, u)\n",
    "        if (real_case_one(A, u, au) != False):\n",
    "            if init_printing:\n",
    "                print('Eigen value:\\n', real_case_one(A, u, au)[0])\n",
    "                print('Eigen vector:\\n', real_case_one(A, u, au)[1])\n",
    "            return\n",
    "        AA_u = np.dot(A, au)\n",
    "        if (real_case_two(A, u, au, AA_u) != False):\n",
    "            if init_printing:\n",
    "                print('Eigen values:\\n', real_case_two(A, u, au, AA_u)[0], '\\n', real_case_two(A, u, au, AA_u)[2])\n",
    "                print('Eigen vectors:\\n', real_case_two(A, u, au, AA_u)[1], '\\n', real_case_two(A, u, au, AA_u)[3])\n",
    "            return\n",
    "        if (complex_case(A, u, au, AA_u) != False):\n",
    "            if init_printing:\n",
    "                print('Eigen values:\\n', complex_case(A, u, au, AA_u)[0], '\\n', complex_case(A, u, au, AA_u)[2])\n",
    "                print('Eigen vectors:\\n', complex_case(A, u, au, AA_u)[1], '\\n', complex_case(A, u, au, AA_u)[3])\n",
    "            return\n",
    "    print(f'Алгоритм не сошелся за {number_of_iterations} итераций.')\n",
    "        \n",
    "        \n",
    "Eigen_value_detecter(A, 1000, True)"
   ]
  },
  {
   "cell_type": "code",
   "execution_count": 5,
   "id": "c190ca5d",
   "metadata": {},
   "outputs": [],
   "source": [
    "A = np.matrix([[1, -2, 1, 0, -1, 1, -2, 2, 0, -2],\n",
    "               [0, 2, 0, 0, 2, 1, -1, -1, -1, -2],\n",
    "               [0, 1, 0, -1, 1, -1, 0, -1, 1, -1],\n",
    "               [-2, -1, 2, -1, 0, 0, 0, 0, 1, 0],\n",
    "               [1, -2, 0, 1, 0, -2, -1, 0, 2, 2],\n",
    "               [-2, -2, 0, -2, 0, 1, 1, -2, 1, 1],\n",
    "               [-1, -2, -1, -1, -2, -1, -2, 1, -1, 2],\n",
    "               [-2, 1, 2, -2, 0, 2, 1, -1, -2, 2],\n",
    "               [0, 1, 0, 1, 1, -2, 2, 0, 1, 1],\n",
    "               [0, 0, 2, -1, -1, 0, -2, 2, -1, -1]], dtype=float)"
   ]
  },
  {
   "cell_type": "code",
   "execution_count": 369,
   "id": "c3030b2c",
   "metadata": {},
   "outputs": [
    {
     "name": "stderr",
     "output_type": "stream",
     "text": [
      "<ipython-input-346-f34d58407ca4>:41: RuntimeWarning: invalid value encountered in true_divide\n",
      "  eigen_1 = eigen_1 / np.linalg.norm(eigen_1)\n",
      "<ipython-input-346-f34d58407ca4>:45: RuntimeWarning: invalid value encountered in true_divide\n",
      "  eigen_2 = eigen_2 / np.linalg.norm(eigen_2)\n"
     ]
    },
    {
     "data": {
      "image/png": "[encoded data removed]",
      "text/plain": [
       "<Figure size 1080x720 with 1 Axes>"
      ]
     },
     "metadata": {
      "needs_background": "light"
     },
     "output_type": "display_data"
    }
   ],
   "source": [
    "list_of_orders = [200 * i for i in range(1, 11)]\n",
    "list_of_time_task_1 = []\n",
    "\n",
    "def solving_time(order):\n",
    "    matrix = generate_quadratic_matrix(order)\n",
    "    result = %timeit -n1 -r1 -o -q -p0 Eigen_value_detecter(matrix[:order, :order], 1000, False)\n",
    "    list_of_time_task_1.append(result.compile_time)\n",
    "    \n",
    "    \n",
    "for o in list_of_orders:\n",
    "    solving_time(o)\n",
    "plt.figure(figsize=[15, 10])\n",
    "plt.plot(list_of_orders, [t * (10 ** 6) for t in list_of_time_task_1], color='red', linewidth=3, label='Eigen values detecter')\n",
    "plt.ylabel('Seconds')\n",
    "plt.xlabel('Shape of matrix')\n",
    "plt.title('Dependence of the operating time on the size of the matrix')\n",
    "plt.legend()\n",
    "plt.show()"
   ]
  },
  {
   "cell_type": "code",
   "execution_count": null,
   "id": "b50f9f37",
   "metadata": {},
   "outputs": [],
   "source": [
    "B = np.matrix([[-1, 1, -1, 0, -1, 0, -1, 1, 1, -1, 0, -1, -1, 1, 0, 0, 1, 1, 1, 1],\n",
    "               [-1, 0, -1, 1, -1, 0, 0, 0, 0, -1, 0, 0, -1, 1, 0, -1, 1, -1, -1, 0],\n",
    "               [1, 0, -1, 1, 0, 1, -1, -1, -1, 0, -1, -1, 1, -1, 1, 1, -1, 1, -1, 0],\n",
    "               [-1, 1, 0, 0, -1, 0, 0, -1, 0, -1, 1, 1, -1, -1, 1, 1, -1, 1, -1, 0],\n",
    "               [1, 0, -1, 0, 0, -1, 1, 1, 0, 0, 0, 1, 1, 1, 0, 0, -1, 0, 0, 1],\n",
    "               [0, 0, 0, 0, -1, 1, 1, 0, 0, 1, 1, 0, -1, 0, 1, 1, 0, 1, 0, 0],\n",
    "               [-1, 0, 1, 1, 1, -1, -1, 0, -1, 1, -1, -1, -1, 0, -1, 0, 0, 0, -1, 1],\n",
    "               [0, 0, -1, -1, 0, 1, 1, 1, 1, -1, 0, 0, -1, 1, 1, 1, 1, 0, 0, -1], \n",
    "               [0, 0, 1, 1, 0, 1, 1, 0, 1, -1, 1, 0, 0, 0, 1, 1, 0, 0, 0, 1],\n",
    "               [0, -1, 0, 0, 1, 0, -1, 0, -1, 0, -1, 0, -1, 0, 1, -1, 0, 0, 1, 1],\n",
    "               [1, -1, 1, -1, -1, -1, 1, 0, -1, 0, 1, 1, -1, 0, 1, 1, 1, 0, 0, 0],\n",
    "               [0, 1, 0, 0, -1, 0, 1, 0, 1, 0, 0, 1, 1, -1, -1, 0, -1, 1, 1, -1],\n",
    "               [-1, -1, -1, -1, 0, 1, -1, 0, 0, -1, 0, 0, 0, 1, 1, 0, 0, 0, -1, 0],\n",
    "               [-1, 0, 1, 0, -1, 0, 0, 1, -1, 1, 1, -1, 1, 1, 1, -1, 1, -1, -1, 0],\n",
    "               [1, -1, 0, -1, -1, 0, -1, -1, 0, 0, 1, 0, 1, 1, -1, 1, 0, 0, -1, 0],\n",
    "               [-1, -1, 1, 0, -1, 1, 1, -1, 1, 0, 0, -1, 1, -1, -1, 0, 0, 1, 1, 1],\n",
    "               [0, 0, -1, 0, 0, 0, 0, -1, 1, 1, 0, -1, 1, -1, 0, 0, 0, -1, -1, 1],\n",
    "               [-1, 0, -1, -1, -1, 1, 1, -1, 1, -1, 1, -1, 1, -1, 1, 1, 0, -1, 0, -1],\n",
    "               [-1, 0, 1, 0, 0, 0, 0, -1, 1, -1, 1, -1, 0, -1, -1, 1, 0, 1, 0, 0],\n",
    "               [0, -1, -1, 1, -1, 1, -1, -1, -1, 1, 1, -1, 0, -1, -1, 0, 1, 0, -1, -1]], dtype=float)"
   ]
  },
  {
   "cell_type": "markdown",
   "id": "b5cc8dd7",
   "metadata": {},
   "source": [
    "Метод Данилевского."
   ]
  },
  {
   "cell_type": "code",
   "execution_count": 253,
   "id": "4f716fed",
   "metadata": {},
   "outputs": [],
   "source": [
    "def Danilevsky_method(A):\n",
    "    '''\n",
    "    Danilevsky method for all matrices. It produces cases where main element is zero, or any \n",
    "    element in current row are zeros. Returns a modified matrix in Frobenius form.\n",
    "    '''\n",
    "    n = A.shape[0]\n",
    "    for i in reversed(range(1, n)):\n",
    "        if abs(A[i, i - 1]) < 10 ** (-6):\n",
    "            for k in reversed(range(0, i - 2)):\n",
    "                if A[i, k] != 0:\n",
    "                    A[:, i - 1], A[:, k] = A[:, k], A[:, i - 1]\n",
    "                    A[i - 1, :], A[k, :] = A[i - 1, :], A[k, :]\n",
    "            if abs(A[i, i - 1]) < 10 ** (-6):\n",
    "                continue\n",
    "        c = A[i, i - 1]\n",
    "        A[:, i - 1] = A[:, i - 1] / c\n",
    "        A[i - 1, :] = A[i - 1, :] * c\n",
    "        for j in reversed(range(n)):\n",
    "            if j != i - 1:\n",
    "                c = copy.copy(A[i, j])\n",
    "                A[:, j] = A[:, j] - c * A[:, i - 1]\n",
    "                A[i - 1, :] = A[i - 1, :] + c * A[j, :]\n",
    "    for i in range(n):\n",
    "        for j in range(n):\n",
    "            if A[i, j] < 10 ** (-6):\n",
    "                A[i, j] = 0\n",
    "    return A\n",
    "\n",
    "\n",
    "Danilevsky_method(B)"
   ]
  },
  {
   "cell_type": "markdown",
   "id": "73cce16f",
   "metadata": {},
   "source": [
    "Характеристический многочлен матрицы $B$:"
   ]
  },
  {
   "cell_type": "code",
   "execution_count": 252,
   "id": "d2d78863",
   "metadata": {},
   "outputs": [
    {
     "data": {
      "text/latex": [
       "$\\displaystyle \\lambda^{20} - 1.0 \\lambda^{19} - 1.0 \\lambda^{18} - 1.0 \\lambda^{17} - 1.0 \\lambda^{16} - 1.0 \\lambda^{13} + 1.0 \\lambda^{12} + 1.0 \\lambda^{11} + 1.0 \\lambda^{9} - 1.0 \\lambda^{8} - 1.0 \\lambda^{7} + 1.0 \\lambda^{6} + 1.0 \\lambda^{4} + 1.0 \\lambda^{2} - 1.0 \\lambda + 1.0$"
      ],
      "text/plain": [
       "lamda**20 - 1.0*lamda**19 - 1.0*lamda**18 - 1.0*lamda**17 - 1.0*lamda**16 - 1.0*lamda**13 + 1.0*lamda**12 + 1.0*lamda**11 + 1.0*lamda**9 - 1.0*lamda**8 - 1.0*lamda**7 + 1.0*lamda**6 + 1.0*lamda**4 + 1.0*lamda**2 - 1.0*lamda + 1.0"
      ]
     },
     "execution_count": 252,
     "metadata": {},
     "output_type": "execute_result"
    }
   ],
   "source": [
    "lamda = symbols('lamda')\n",
    "car_polynom = lamda ** B.shape[0] + sum(-lamda ** i * B[0, i] for i in range(B.shape[1]))\n",
    "car_polynom"
   ]
  },
  {
   "cell_type": "markdown",
   "id": "76935fb7",
   "metadata": {},
   "source": [
    "Корень $\\lambda_0 = 1$ угадывается легко. Получим следующий полином: $Q(\\lambda) = P(\\lambda) / (\\lambda - 1)$.\n",
    "$$\n",
    "    Q(\\lambda) = \\lambda^{19} - \\lambda^{17} - 2\\lambda^{16} - 3\\lambda^{15} -3\\lambda^{14} - 3\\lambda^{13} - 4\\lambda^{12} - 3\\lambda^{11} - 2\\lambda^{10} - 2\\lambda^9 - \\lambda^8 - 2\\lambda^7 - 3\\lambda^6 - 2\\lambda^5 -2\\lambda^4 - \\lambda^3 - \\lambda^2 - 1.\n",
    "$$\n",
    "Найдем вещественный корень многочлена $Q(\\lambda)$. Покажем, что данный корень $\\lambda_1$ принадлежит отрезку $[1.5, 3].$ Во-первых, $Q(1.5) < 0, Q(3) > 0, Q'(\\lambda) > 0$ на отрезке $[1.5, 3]$.\n"
   ]
  },
  {
   "cell_type": "code",
   "execution_count": 267,
   "id": "33b92fc9",
   "metadata": {},
   "outputs": [],
   "source": [
    "def Q(x):\n",
    "    return x ** 19 - x ** 17 - 2 * x ** 16 - 3 * x ** 15 -3 * x ** 14 - 3 * x ** 13 - 4 * x ** 12 - 3 * x ** 11 - 2 * x ** 10 - 2 * x ** 9 - x ** 8 - 2 * x ** 7 - 3 * x ** 6 - 2 * x ** 5 -2 * x ** 4 - x ** 3 - x ** 2 - 1\n",
    "\n",
    "def Q_derrivative(x):\n",
    "    return 19 * x ** 18 - 17 * x ** 16 - 2 * 16 * x ** 15 - 3 * 15 * x ** 14 - 3 * 13 * x ** 12 - 4 * 12 * x ** 11 - 33 * x ** 10 - 20 * x ** 9 - 18 * x ** 8 - 8 * x ** 7 - 18 * x ** 5 - 10 * x ** 4 - 8 * x ** 3 - 3 * x * x - 2 * x\n",
    "\n",
    "def Q_second_derrivative(x):\n",
    "    return 19 * 18 * x ** 17 - 17 * 16 * x ** 15 - 30 * 16 * x ** 14 - 45 * 14 * x ** 13 - 36 * 13 * x ** 11 - 44 * 12 * x ** 10 - 330 * x ** 9 - 180 * x ** 8 - 18 * 8 * x ** 7 - 8 * 7 * x ** 6 - 18 * 5 * x ** 4 - 40 * x ** 3 - 24 * x * x - 6 * x - 2 \n",
    "\n",
    "\n",
    "def bisection(a, b, fun):\n",
    "    while abs(b - a) > 0.02:\n",
    "        x = (a + b) / 2\n",
    "        if sign(fun(x)) != sign(fun(a)):\n",
    "            b = x\n",
    "        else:\n",
    "            a = x\n",
    "    return (a, b)\n",
    "\n",
    "\n",
    "def simple_iteration(a, b, x, func, derrivative):\n",
    "    x_previous = a\n",
    "    l = 1 / derrivative(x_previous)\n",
    "    while abs(x - x_previous) / np.sqrt(x * x + x_previous * x_previous) > 0.000000001:\n",
    "        x = x - func(x) * l\n",
    "        x_previous = x\n",
    "    return x"
   ]
  },
  {
   "cell_type": "code",
   "execution_count": 259,
   "id": "4ee1236f",
   "metadata": {},
   "outputs": [
    {
     "data": {
      "text/plain": [
       "(1.921875, 1.93359375)"
      ]
     },
     "execution_count": 259,
     "metadata": {},
     "output_type": "execute_result"
    }
   ],
   "source": [
    "bisection(1.5, 3, Q)"
   ]
  },
  {
   "cell_type": "code",
   "execution_count": 265,
   "id": "1bd57b3a",
   "metadata": {},
   "outputs": [
    {
     "data": {
      "text/plain": [
       "1.927541138617727"
      ]
     },
     "execution_count": 265,
     "metadata": {},
     "output_type": "execute_result"
    }
   ],
   "source": [
    "simple_iteration(1.921875, 1.93359375, 1.922, Q, Q_derrivative)"
   ]
  },
  {
   "cell_type": "markdown",
   "id": "a7a1d988",
   "metadata": {},
   "source": [
    "Теперь покажем, что $Q(\\lambda)$ больше не имеет действительных корней. Во-первых, для $x > 3$ $Q'(x) > 0$, и функция $Q(x)$ положительна и строго возрастает.\n",
    "\n",
    "Во-вторых, $Q(x) < 0$ для $x\\in (-\\infty, 1)$. Действительно, рассмотрим на данном промежутке производную $Q'(x)$ и найдем ее корень методом простой итерации. "
   ]
  },
  {
   "cell_type": "code",
   "execution_count": 275,
   "id": "50155130",
   "metadata": {},
   "outputs": [
    {
     "data": {
      "text/plain": [
       "(-0.009765625, 0.0009765625)"
      ]
     },
     "execution_count": 275,
     "metadata": {},
     "output_type": "execute_result"
    }
   ],
   "source": [
    "bisection(-10, 1, Q_derrivative)"
   ]
  },
  {
   "cell_type": "code",
   "execution_count": 278,
   "id": "bc9f1dfb",
   "metadata": {},
   "outputs": [
    {
     "data": {
      "text/plain": [
       "-2.829643627744985e-05"
      ]
     },
     "execution_count": 278,
     "metadata": {},
     "output_type": "execute_result"
    }
   ],
   "source": [
    "derrivative_root = simple_iteration(-0.009765625, 0.0009765625, 0.00093, Q_derrivative, Q_second_derrivative)\n",
    "derrivative_root"
   ]
  },
  {
   "cell_type": "markdown",
   "id": "48da3484",
   "metadata": {},
   "source": [
    "Таким образом, до найденного корня $x_0$ функция $Q$ монотонно возрастает ($Q'(x) > 0$), а на отрезке после и до единицы монотонно убывает. Так как $Q(x_0) < 0$, то и $Q(x) < 0$ на промежутке $(-\\infty, 1).$ \n",
    "\n",
    "Очевидно, что на отрезке $(1, \\lambda_1)$ функция отрицательна. Следовательно, у $Q(x)$ больше нет действительных корней."
   ]
  },
  {
   "cell_type": "code",
   "execution_count": 279,
   "id": "bed29cdb",
   "metadata": {},
   "outputs": [
    {
     "data": {
      "text/plain": [
       "-1.0000000008006658"
      ]
     },
     "execution_count": 279,
     "metadata": {},
     "output_type": "execute_result"
    }
   ],
   "source": [
    "Q(derrivative_root)"
   ]
  },
  {
   "cell_type": "markdown",
   "id": "87189dcf",
   "metadata": {},
   "source": [
    "Нахождение собственных векторов для собственных значений $\\lambda_0 = 1$ и $\\lambda_1 = 1.927541138617727.$"
   ]
  },
  {
   "cell_type": "markdown",
   "id": "54577460",
   "metadata": {},
   "source": [
    "Приведение матрицы к форме Хессенберга и реализация $QR$-алгоритма."
   ]
  },
  {
   "cell_type": "code",
   "execution_count": 6,
   "id": "01f39008",
   "metadata": {},
   "outputs": [
    {
     "data": {
      "text/plain": [
       "matrix([[ 1.        , -1.34008789, -0.25      ,  1.29003906, -2.93994141,\n",
       "          0.69042969, -0.45019531, -1.11010742, -1.37011719,  1.77001953],\n",
       "        [ 3.74165739, -1.07006836, -1.42993164,  1.55004883,  0.22998047,\n",
       "          1.87988281,  1.39990234,  2.99023438,  1.45996094,  1.44995117],\n",
       "        [ 0.        ,  2.4918266 ,  0.        , -0.47998047, -0.0300293 ,\n",
       "          1.70996094,  1.26000977,  0.23999023,  0.70996094, -0.63964844],\n",
       "        [ 0.        ,  0.        ,  4.67516337, -0.79003906, -0.71972656,\n",
       "         -1.18994141, -0.95019531,  2.85986328,  1.39990234, -0.17993164],\n",
       "        [ 0.        ,  0.        ,  0.        ,  3.529388  , -1.20996094,\n",
       "         -0.62011719, -1.57006836, -0.5703125 , -1.59008789,  1.83007812],\n",
       "        [ 0.        ,  0.        ,  0.        ,  0.        ,  3.62553183,\n",
       "          0.87011719,  0.27001953, -0.75976562,  0.35009766, -0.10998535],\n",
       "        [ 0.        ,  0.        ,  0.        ,  0.        ,  0.        ,\n",
       "          3.20914025,  0.75      , -1.30004883,  0.83984375,  1.18994141],\n",
       "        [ 0.        ,  0.        ,  0.        ,  0.        ,  0.        ,\n",
       "          0.        ,  1.7033911 , -0.37988281, -0.90039062, -0.31982422],\n",
       "        [ 0.        ,  0.        ,  0.        ,  0.        ,  0.        ,\n",
       "          0.        ,  0.        ,  2.79152464,  0.98046875,  0.31982422],\n",
       "        [ 0.        ,  0.        ,  0.        ,  0.        ,  0.        ,\n",
       "          0.        ,  0.        ,  0.        ,  0.41264867, -0.14990234]])"
      ]
     },
     "execution_count": 6,
     "metadata": {},
     "output_type": "execute_result"
    }
   ],
   "source": [
    "def Arnoldi_algorithm(matrix, num_of_iterations=1, one_step=True):\n",
    "    H = zeros(matrix.shape[0] + 1, matrix.shape[0])\n",
    "    Q = zeros(matrix.shape[0], matrix.shape[0] + 1)\n",
    "    b = zeros(matrix.shape[0], 1)\n",
    "    b[0, 0] = 1\n",
    "    Q[:, 0] = b \n",
    "    for j in range(num_of_iterations) if not one_step else range(num_of_iterations, num_of_iterations + 1):\n",
    "        z = matrix * Q[:, j]\n",
    "        for i in range(j + 1):\n",
    "            H[i, j] = z.transpose() * Q[:, i]\n",
    "            H[i, j] = round(H[i, j], 2)\n",
    "            z = z - H[i, j] * Q[:, i]\n",
    "        H[j + 1, j] = np.sqrt(float(sum([x * x for x in z])))\n",
    "        if abs(H[j + 1, j]) <= 10 ** (-9):\n",
    "            return Q[:, :matrix.shape[0]], H[:matrix.shape[0], :]\n",
    "        Q[:, j + 1] = z / H[j + 1, j]\n",
    "    if not one_step:\n",
    "        return Q[:, :matrix.shape[0]], H[:matrix.shape[0], :]\n",
    "    else:\n",
    "        return Q[:, : num_of_iterations + 1], H[:matrix.shape[0], : num_of_iterations + 1]\n",
    "\n",
    "    \n",
    "A_hform = np.matrix(Arnoldi_algorithm(Matrix(A), A.shape[0], False)[1], dtype=float)\n",
    "A_hform"
   ]
  },
  {
   "cell_type": "code",
   "execution_count": 7,
   "id": "43def931",
   "metadata": {},
   "outputs": [],
   "source": [
    "def QR_decomposition(matrix):\n",
    "    n = matrix.shape[0]\n",
    "    Qtr = eye(n)\n",
    "    for i in range(n):\n",
    "        a = matrix[i : n + 1, i]\n",
    "        new_a = np.zeros(n - i).reshape(n - i, 1)\n",
    "        new_a[0, 0] = -sign(a[0, 0]) * np.sqrt(float(np.dot(a.transpose(), a)[0, 0]))\n",
    "        w = (a - new_a) / np.sqrt(float(np.dot((a - new_a).transpose(), a - new_a)[0, 0]))\n",
    "        for j in range(n):\n",
    "            matrix[i : n + 1, j] = matrix[i : n + 1, j] - 2 * np.dot((np.dot(matrix[i : n + 1, j].transpose(), w)[0, 0]), w)\n",
    "        for j in range(n):\n",
    "            Qtr[i:n + 1, j] = Qtr[i:n + 1, j] - 2 * np.dot((np.dot(Qtr[i:n + 1, j].transpose(), w))[0, 0], w)  \n",
    "    for i in range(n):\n",
    "        for j in range(n):\n",
    "            if abs(matrix[i, j]) < 10 ** (-9):\n",
    "                matrix[i, j] = 0\n",
    "            if abs(Qtr[i, j]) < 10 ** (-9):\n",
    "                Qtr[i, j] = 0\n",
    "    return matrix[:n, :], Qtr.transpose()[:, :n]\n",
    "\n",
    "\n",
    "def QR_algorithm_step(A):\n",
    "    Q, R = QR_decomposition(A)\n",
    "    return np.dot(R, Q)\n",
    "\n",
    "\n",
    "def QR_algorithm(A, number_of_steps):\n",
    "    A_step = A\n",
    "    for i in range(number_of_steps):\n",
    "        A_step = QR_algorithm_step(A_step)\n",
    "    return A_step"
   ]
  },
  {
   "cell_type": "code",
   "execution_count": 13,
   "id": "7ef342da",
   "metadata": {},
   "outputs": [],
   "source": [
    "def Roots_detecter(A):\n",
    "    list_of_roots = []\n",
    "    counter = 0\n",
    "    while counter < A.shape[0]:\n",
    "        if counter == 0 and abs(A[1, 0]) < 10 ** (-9):\n",
    "            list_of_roots.append(A[0, 0])\n",
    "            counter += 1\n",
    "        elif counter == 0:\n",
    "            list_of_roots.append(Polynom_solve(-A[0, 0] - A[1, 1], A[0, 0] * A[1, 1] - A[0, 1] * A[1, 0]))\n",
    "            counter += 2\n",
    "        elif counter == A.shape[0] - 1 and abs(A[A.shape[0] - 1, A.shape[0] - 2]) < 10 ** (-9):\n",
    "            list_of_roots.append(A[counter, counter])\n",
    "            counter += 1\n",
    "        else:\n",
    "            if abs(A[counter, counter + 1]) < 10 ** (-9):\n",
    "                list_of_roots.append(A[counter, counter])\n",
    "                counter += 1\n",
    "            else:\n",
    "                list_of_roots.append(Polynom_solve(-A[counter, counter] - A[counter + 1, counter + 1], A[counter, counter] * A[counter +1, counter + 1] - A[counter, counter + 1] * A[counter + 1, counter]))\n",
    "            counter += 2\n",
    "    return list_of_roots"
   ]
  },
  {
   "cell_type": "code",
   "execution_count": 57,
   "id": "2815ae2e",
   "metadata": {},
   "outputs": [
    {
     "data": {
      "text/plain": [
       "[-3.87298334620742,\n",
       " (-3.68427173132771 + 0.99238546050368*I,\n",
       "  -3.68427173132771 - 0.99238546050368*I),\n",
       " (-0.389359035094069 + 3.9730311387902*I,\n",
       "  -0.389359035094069 - 3.9730311387902*I),\n",
       " (-2.57799694678153 + 0.871383197678636*I,\n",
       "  -2.57799694678153 - 0.871383197678636*I),\n",
       " (1.84929477166793 + 1.16864880546699*I,\n",
       "  1.84929477166793 - 1.16864880546699*I),\n",
       " 0.0443088632949401]"
      ]
     },
     "execution_count": 57,
     "metadata": {},
     "output_type": "execute_result"
    }
   ],
   "source": [
    "Roots_detecter(QR_algorithm(A_hform, 100))"
   ]
  },
  {
   "cell_type": "code",
   "execution_count": 18,
   "id": "f764baff",
   "metadata": {},
   "outputs": [
    {
     "name": "stdout",
     "output_type": "stream",
     "text": [
      "0.0002597999991849065\n",
      "8.10999990790151e-05\n",
      "8.100000013655517e-05\n",
      "0.00011280000035185367\n"
     ]
    },
    {
     "data": {
      "image/png": "[encoded data removed]",
      "text/plain": [
       "<Figure size 1080x720 with 1 Axes>"
      ]
     },
     "metadata": {
      "needs_background": "light"
     },
     "output_type": "display_data"
    }
   ],
   "source": [
    "list_of_orders = [4, 10, 16, 20]\n",
    "list_of_time_task_3 = []\n",
    "\n",
    "def solving_time(order):\n",
    "    matrix = generate_quadratic_matrix(order)\n",
    "    result = %timeit -n1 -r1 -o -q -p0 Roots_detecter(QR_algorithm(np.matrix(Arnoldi_algorithm(Matrix(matrix[:order, :order]), order, False)[1], dtype=float), order * 10))\n",
    "    list_of_time_task_3.append(result.compile_time)\n",
    "    print(list_of_time_task_3[-1])\n",
    "    \n",
    "    \n",
    "for o in list_of_orders:\n",
    "    solving_time(o)\n",
    "plt.figure(figsize=[15, 10])\n",
    "plt.plot(list_of_orders, [t * (10 ** 6) for t in list_of_time_task_3], color='red', linewidth=3, label='Eigen values $QR$-detecter')\n",
    "plt.ylabel('Seconds')\n",
    "plt.xlabel('Shape of matrix')\n",
    "plt.title('Dependence of the operating time on the size of the matrix')\n",
    "plt.legend()\n",
    "plt.show()"
   ]
  }
 ],
 "metadata": {
  "kernelspec": {
   "display_name": "Python 3",
   "language": "python",
   "name": "python3"
  },
  "language_info": {
   "codemirror_mode": {
    "name": "ipython",
    "version": 3
   },
   "file_extension": ".py",
   "mimetype": "text/x-python",
   "name": "python",
   "nbconvert_exporter": "python",
   "pygments_lexer": "ipython3",
   "version": "3.8.8"
  }
 },
 "nbformat": 4,
 "nbformat_minor": 5
}
